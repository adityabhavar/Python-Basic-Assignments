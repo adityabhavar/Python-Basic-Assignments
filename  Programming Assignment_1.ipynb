{
 "cells": [
  {
   "cell_type": "markdown",
   "id": "fe538913",
   "metadata": {},
   "source": [
    "1. Write a Python program to print \"Hello Python\"?\n",
    "2. Write a Python program to do arithmetical operations addition and division.?\n",
    "3. Write a Python program to find the area of a triangle?\n",
    "4. Write a Python program to swap two variables?\n",
    "5. Write a Python program to generate a random number?"
   ]
  },
  {
   "cell_type": "code",
   "execution_count": 1,
   "id": "b838128b",
   "metadata": {},
   "outputs": [
    {
     "name": "stdout",
     "output_type": "stream",
     "text": [
      "Hello Python\n"
     ]
    }
   ],
   "source": [
    "print(\"Hello Python\")"
   ]
  },
  {
   "cell_type": "code",
   "execution_count": 2,
   "id": "29335d46",
   "metadata": {},
   "outputs": [
    {
     "name": "stdout",
     "output_type": "stream",
     "text": [
      "Enter num1:5\n",
      "Enter num2:2\n",
      "Addition is :7 and Subtraction is :3 \n"
     ]
    }
   ],
   "source": [
    "a=int(input('Enter num1:'))\n",
    "b=int(input('Enter num2:'))\n",
    "c=a+b\n",
    "d=a-b\n",
    "print('Addition is :{} and Subtraction is :{} '.format(c,d))"
   ]
  },
  {
   "cell_type": "code",
   "execution_count": 3,
   "id": "6496c121",
   "metadata": {},
   "outputs": [
    {
     "name": "stdout",
     "output_type": "stream",
     "text": [
      "Enter the Num1 :5\n",
      "Enter the Num1 :5\n",
      "Enter the Num1 :5\n",
      "area of triangle is :10.825317547305483\n"
     ]
    }
   ],
   "source": [
    "a=int(input('Enter the Num1 :'))\n",
    "b=int(input('Enter the Num1 :'))\n",
    "c=int(input('Enter the Num1 :'))\n",
    "\n",
    "s=(a+b+c)/2\n",
    "area = (s*(s-a)*(s-b)*(s-c))**0.5\n",
    "print('area of triangle is :{}'.format(area))"
   ]
  },
  {
   "cell_type": "code",
   "execution_count": 4,
   "id": "beea9330",
   "metadata": {},
   "outputs": [
    {
     "name": "stdout",
     "output_type": "stream",
     "text": [
      "Enter num1:5\n",
      "Enter num2:3\n",
      "A is :3 and B is :5\n"
     ]
    }
   ],
   "source": [
    "a=int(input('Enter num1:'))\n",
    "b=int(input('Enter num2:'))\n",
    "a=a+b\n",
    "b=a-b\n",
    "a=a-b\n",
    "\n",
    "print(\"A is :{} and B is :{}\".format(a,b))"
   ]
  },
  {
   "cell_type": "code",
   "execution_count": 5,
   "id": "7012db94",
   "metadata": {},
   "outputs": [
    {
     "name": "stdout",
     "output_type": "stream",
     "text": [
      "4\n",
      "Random Number :6\n",
      "18\n"
     ]
    }
   ],
   "source": [
    "import random\n",
    "print(random.randint(1,9))\n",
    "\n",
    "print('Random Number :', end='')\n",
    "print(random.choice([1,4,5,6,8]))\n",
    "print(random.randrange(10,20,2))"
   ]
  },
  {
   "cell_type": "code",
   "execution_count": null,
   "id": "a96030d3",
   "metadata": {},
   "outputs": [],
   "source": []
  }
 ],
 "metadata": {
  "kernelspec": {
   "display_name": "Python 3",
   "language": "python",
   "name": "python3"
  },
  "language_info": {
   "codemirror_mode": {
    "name": "ipython",
    "version": 3
   },
   "file_extension": ".py",
   "mimetype": "text/x-python",
   "name": "python",
   "nbconvert_exporter": "python",
   "pygments_lexer": "ipython3",
   "version": "3.8.8"
  }
 },
 "nbformat": 4,
 "nbformat_minor": 5
}
