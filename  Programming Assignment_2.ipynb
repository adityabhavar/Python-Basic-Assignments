{
 "cells": [
  {
   "cell_type": "markdown",
   "id": "acf5ab2c",
   "metadata": {},
   "source": [
    "1. Write a Python program to convert kilometers to miles?\n",
    "2. Write a Python program to convert Celsius to Fahrenheit?\n",
    "3. Write a Python program to display calendar?\n",
    "4. Write a Python program to solve quadratic equation?\n",
    "5. Write a Python program to swap two variables without temp variable?"
   ]
  },
  {
   "cell_type": "code",
   "execution_count": 6,
   "id": "dc3cb7d2",
   "metadata": {},
   "outputs": [
    {
     "name": "stdout",
     "output_type": "stream",
     "text": [
      "Enter the Kilometers: 5\n",
      "5.00 km is equal to 3.11 miles\n"
     ]
    }
   ],
   "source": [
    "km=float(input(\"Enter the Kilometers: \"))\n",
    "# 1 km equal to 0.621371 miles\n",
    "conversion=0.621371\n",
    "miles=km*conversion\n",
    "print('%0.2f km is equal to %0.2f miles'%(km,miles))"
   ]
  },
  {
   "cell_type": "code",
   "execution_count": 9,
   "id": "b5108487",
   "metadata": {},
   "outputs": [
    {
     "name": "stdout",
     "output_type": "stream",
     "text": [
      "Enter the Celsius: 5\n",
      "5.00 Celcius is equal to 41.00 fahrenheits\n"
     ]
    }
   ],
   "source": [
    "Celsius=float(input(\"Enter the Celsius: \"))\n",
    "# 0 celcius equal to 32 Fahrenheit\n",
    "Fahrenheit=(Celsius*9/5)+32\n",
    "print('%0.2f Celcius is equal to %0.2f fahrenheits'%(Celsius,Fahrenheit))"
   ]
  },
  {
   "cell_type": "code",
   "execution_count": 16,
   "id": "9474eadc",
   "metadata": {},
   "outputs": [
    {
     "name": "stdout",
     "output_type": "stream",
     "text": [
      "Enter Year: 2022\n",
      "                                  2022\n",
      "\n",
      "      January                   February                   March\n",
      "Mo Tu We Th Fr Sa Su      Mo Tu We Th Fr Sa Su      Mo Tu We Th Fr Sa Su\n",
      "                1  2          1  2  3  4  5  6          1  2  3  4  5  6\n",
      " 3  4  5  6  7  8  9       7  8  9 10 11 12 13       7  8  9 10 11 12 13\n",
      "10 11 12 13 14 15 16      14 15 16 17 18 19 20      14 15 16 17 18 19 20\n",
      "17 18 19 20 21 22 23      21 22 23 24 25 26 27      21 22 23 24 25 26 27\n",
      "24 25 26 27 28 29 30      28                        28 29 30 31\n",
      "31\n",
      "\n",
      "       April                      May                       June\n",
      "Mo Tu We Th Fr Sa Su      Mo Tu We Th Fr Sa Su      Mo Tu We Th Fr Sa Su\n",
      "             1  2  3                         1             1  2  3  4  5\n",
      " 4  5  6  7  8  9 10       2  3  4  5  6  7  8       6  7  8  9 10 11 12\n",
      "11 12 13 14 15 16 17       9 10 11 12 13 14 15      13 14 15 16 17 18 19\n",
      "18 19 20 21 22 23 24      16 17 18 19 20 21 22      20 21 22 23 24 25 26\n",
      "25 26 27 28 29 30         23 24 25 26 27 28 29      27 28 29 30\n",
      "                          30 31\n",
      "\n",
      "        July                     August                  September\n",
      "Mo Tu We Th Fr Sa Su      Mo Tu We Th Fr Sa Su      Mo Tu We Th Fr Sa Su\n",
      "             1  2  3       1  2  3  4  5  6  7                1  2  3  4\n",
      " 4  5  6  7  8  9 10       8  9 10 11 12 13 14       5  6  7  8  9 10 11\n",
      "11 12 13 14 15 16 17      15 16 17 18 19 20 21      12 13 14 15 16 17 18\n",
      "18 19 20 21 22 23 24      22 23 24 25 26 27 28      19 20 21 22 23 24 25\n",
      "25 26 27 28 29 30 31      29 30 31                  26 27 28 29 30\n",
      "\n",
      "      October                   November                  December\n",
      "Mo Tu We Th Fr Sa Su      Mo Tu We Th Fr Sa Su      Mo Tu We Th Fr Sa Su\n",
      "                1  2          1  2  3  4  5  6                1  2  3  4\n",
      " 3  4  5  6  7  8  9       7  8  9 10 11 12 13       5  6  7  8  9 10 11\n",
      "10 11 12 13 14 15 16      14 15 16 17 18 19 20      12 13 14 15 16 17 18\n",
      "17 18 19 20 21 22 23      21 22 23 24 25 26 27      19 20 21 22 23 24 25\n",
      "24 25 26 27 28 29 30      28 29 30                  26 27 28 29 30 31\n",
      "31\n",
      "\n"
     ]
    }
   ],
   "source": [
    "import calendar\n",
    "yy=int(input(\"Enter Year: \"))\n",
    "#mm=int(input(\"Enter Month: \"))\n",
    "#print(calendar.month(yy,mm))\n",
    "print(calendar.calendar(yy,mm))"
   ]
  },
  {
   "cell_type": "code",
   "execution_count": 17,
   "id": "0f66977b",
   "metadata": {},
   "outputs": [
    {
     "name": "stdout",
     "output_type": "stream",
     "text": [
      "Enter a: 5\n",
      "Enter b: 4\n",
      "Enter c: 2\n",
      "Complex Roots\n",
      "-0.4 + i 4.898979485566356\n",
      "-0.4 - i 4.898979485566356\n"
     ]
    }
   ],
   "source": [
    "import math\n",
    "\n",
    "def roots(a,b,c):\n",
    "    formula=b*b-4*a*c\n",
    "    sqr=math.sqrt(abs(formula))\n",
    "    \n",
    "    if formula>0:\n",
    "        print('Real & Different roots')\n",
    "        print((-b+sqr)/(2*a))\n",
    "        print((-b-sqr)/(2*a))\n",
    "        \n",
    "    elif formula==0:\n",
    "        print(\"real and same roots\")\n",
    "        print(-b/(2*a))\n",
    "        \n",
    "    else:\n",
    "        print(\"Complex Roots\")\n",
    "        print(-b/(2*a),\"+ i\",sqr)\n",
    "        print(-b/(2*a),\"- i\",sqr)\n",
    "        \n",
    "a=int(input('Enter a: '))\n",
    "b=int(input('Enter b: '))\n",
    "c=int(input('Enter c: '))\n",
    "\n",
    "if a==0:\n",
    "    print(\"enter the correct number\")\n",
    "else:\n",
    "    roots(a,b,c)\n",
    "    \n",
    "    \n",
    "    \n",
    "    "
   ]
  },
  {
   "cell_type": "code",
   "execution_count": 19,
   "id": "ac7f6bda",
   "metadata": {},
   "outputs": [
    {
     "name": "stdout",
     "output_type": "stream",
     "text": [
      "Enter a: 4\n",
      "Enter b: 2\n",
      "After swaping a is 2 and b is 4\n"
     ]
    }
   ],
   "source": [
    "a=int(input(\"Enter a: \"))\n",
    "b=int(input(\"Enter b: \"))\n",
    "\n",
    "a=a+b\n",
    "b=a-b\n",
    "a=a-b\n",
    "\n",
    "print(\"After swaping a is {} and b is {}\".format(a,b))"
   ]
  },
  {
   "cell_type": "code",
   "execution_count": null,
   "id": "78aa8197",
   "metadata": {},
   "outputs": [],
   "source": []
  }
 ],
 "metadata": {
  "kernelspec": {
   "display_name": "Python 3",
   "language": "python",
   "name": "python3"
  },
  "language_info": {
   "codemirror_mode": {
    "name": "ipython",
    "version": 3
   },
   "file_extension": ".py",
   "mimetype": "text/x-python",
   "name": "python",
   "nbconvert_exporter": "python",
   "pygments_lexer": "ipython3",
   "version": "3.8.8"
  }
 },
 "nbformat": 4,
 "nbformat_minor": 5
}
