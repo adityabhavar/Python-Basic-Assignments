{
 "cells": [
  {
   "cell_type": "markdown",
   "id": "66c5f762",
   "metadata": {},
   "source": [
    "1. Write a Python program to find sum of elements in list?\n",
    "2. Write a Python program to Multiply all numbers in the list?\n",
    "3. Write a Python program to find smallest number in a list?\n",
    "4. Write a Python program to find largest number in a list?\n",
    "5. Write a Python program to find second largest number in a list?\n",
    "6. Write a Python program to find N largest elements from a list?\n",
    "7. Write a Python program to print even numbers in a list?\n",
    "8. Write a Python program to print odd numbers in a List?\n",
    "9. Write a Python program to Remove empty List from List?\n",
    "10. Write a Python program to Cloning or Copying a list?\n",
    "11. Write a Python program to Count occurrences of an element in a list?"
   ]
  },
  {
   "cell_type": "code",
   "execution_count": 1,
   "id": "935e45f7",
   "metadata": {},
   "outputs": [
    {
     "name": "stdout",
     "output_type": "stream",
     "text": [
      "21\n"
     ]
    }
   ],
   "source": [
    "l = [1,2,3,4,5,6]\n",
    "sum = 0\n",
    "for i in l:\n",
    "    sum = sum+i\n",
    "print(sum)"
   ]
  },
  {
   "cell_type": "code",
   "execution_count": 2,
   "id": "f7a1baa6",
   "metadata": {},
   "outputs": [
    {
     "name": "stdout",
     "output_type": "stream",
     "text": [
      "720\n"
     ]
    }
   ],
   "source": [
    "m = 1\n",
    "for i in l:\n",
    "    m = m*i\n",
    "print(m)"
   ]
  },
  {
   "cell_type": "code",
   "execution_count": 3,
   "id": "8680cdb6",
   "metadata": {},
   "outputs": [
    {
     "name": "stdout",
     "output_type": "stream",
     "text": [
      "2\n"
     ]
    }
   ],
   "source": [
    "L = [10,464,123,2,5,4,45,48486,5451]\n",
    "L.sort()\n",
    "print(L[0])"
   ]
  },
  {
   "cell_type": "code",
   "execution_count": 4,
   "id": "7f3f2d65",
   "metadata": {},
   "outputs": [
    {
     "name": "stdout",
     "output_type": "stream",
     "text": [
      "48486\n"
     ]
    }
   ],
   "source": [
    "L.sort()\n",
    "print(L[-1])\n"
   ]
  },
  {
   "cell_type": "code",
   "execution_count": 5,
   "id": "43410d03",
   "metadata": {},
   "outputs": [
    {
     "name": "stdout",
     "output_type": "stream",
     "text": [
      "4\n"
     ]
    }
   ],
   "source": [
    "L.sort()\n",
    "print(L[1])"
   ]
  },
  {
   "cell_type": "code",
   "execution_count": 8,
   "id": "7c9acc15",
   "metadata": {},
   "outputs": [
    {
     "name": "stdout",
     "output_type": "stream",
     "text": [
      "5th largest number is 45\n"
     ]
    }
   ],
   "source": [
    "def largest(n):\n",
    "    L.sort()\n",
    "    print(\"{}th largest number is {}\".format(n, L[-n]))\n",
    "largest(5)"
   ]
  },
  {
   "cell_type": "code",
   "execution_count": 9,
   "id": "283022fb",
   "metadata": {},
   "outputs": [
    {
     "name": "stdout",
     "output_type": "stream",
     "text": [
      "[5, 45, 123, 5451]\n"
     ]
    }
   ],
   "source": [
    "odd = []\n",
    "for i in L:\n",
    "    if i%2!=0:\n",
    "        odd.append(i)\n",
    "print(odd)"
   ]
  },
  {
   "cell_type": "code",
   "execution_count": 10,
   "id": "c66a6adc",
   "metadata": {},
   "outputs": [
    {
     "name": "stdout",
     "output_type": "stream",
     "text": [
      "[123, 2, 3, [1, 2, 3]]\n"
     ]
    }
   ],
   "source": [
    "l = [[],123,2,3,[1,2,3],[]]\n",
    "for i in l:\n",
    "    if i==[]:\n",
    "        l.remove(i)\n",
    "print(l)"
   ]
  },
  {
   "cell_type": "code",
   "execution_count": 18,
   "id": "0652eef6",
   "metadata": {},
   "outputs": [
    {
     "name": "stdout",
     "output_type": "stream",
     "text": [
      "Enter a list[1,2,3,4,5,6,7,8,9,0]\n",
      "[1, 2, 3, 4, 5, 6, 7, 8, 9, 0] 2210862827712\n",
      "[1, 2, 3, 4, 5, 6, 7, 8, 9, 0] 2210862329728\n"
     ]
    }
   ],
   "source": [
    "import copy\n",
    "\n",
    "def cloneList():\n",
    "    in_list = eval(input('Enter a list'))\n",
    "    print(in_list, id(in_list))\n",
    "    cloned_list = in_list.copy()\n",
    "    print(cloned_list, id(cloned_list))\n",
    "\n",
    "cloneList()"
   ]
  },
  {
   "cell_type": "code",
   "execution_count": 14,
   "id": "91f1470e",
   "metadata": {},
   "outputs": [
    {
     "name": "stdout",
     "output_type": "stream",
     "text": [
      "10 has occured 3 times\n"
     ]
    }
   ],
   "source": [
    "l = [10,20,30,10,20,30,10]\n",
    "element = 10\n",
    "count = 0\n",
    "for i in l:\n",
    "    if element == i:\n",
    "        count+=1\n",
    "print(\"{} has occured {} times\".format(element,count))"
   ]
  },
  {
   "cell_type": "code",
   "execution_count": null,
   "id": "a1adf116",
   "metadata": {},
   "outputs": [],
   "source": []
  }
 ],
 "metadata": {
  "kernelspec": {
   "display_name": "Python 3",
   "language": "python",
   "name": "python3"
  },
  "language_info": {
   "codemirror_mode": {
    "name": "ipython",
    "version": 3
   },
   "file_extension": ".py",
   "mimetype": "text/x-python",
   "name": "python",
   "nbconvert_exporter": "python",
   "pygments_lexer": "ipython3",
   "version": "3.8.8"
  }
 },
 "nbformat": 4,
 "nbformat_minor": 5
}
